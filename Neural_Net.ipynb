{
 "cells": [
  {
   "cell_type": "code",
   "execution_count": 1,
   "metadata": {},
   "outputs": [],
   "source": [
    "import numpy as np\n",
    "from matplotlib.colors import ListedColormap\n",
    "import random\n",
    "from PIL import Image as PImage\n",
    "from os import listdir\n",
    "import matplotlib.pyplot as plt"
   ]
  },
  {
   "cell_type": "code",
   "execution_count": 2,
   "metadata": {},
   "outputs": [],
   "source": [
    "m_total_train=60000\n",
    "m_total_test=10000\n",
    "px=28\n",
    "classes=10\n",
    "\n",
    "train_set_x=np.zeros((m_total_train,px ,px))\n",
    "test_set_x=np.zeros((m_total_test,px ,px))\n",
    "\n",
    "train_set_y=np.zeros((m_total_train, classes ))       # i initialized  to one hot encoding\n",
    "test_set_y=np.zeros((m_total_test, classes ))\n",
    "\n",
    "\n"
   ]
  },
  {
   "cell_type": "code",
   "execution_count": 3,
   "metadata": {},
   "outputs": [],
   "source": [
    "def load_dataset(path):\n",
    "    train_path=path+\"/train/\"\n",
    "    test_path=path+\"/test/\"\n",
    "    \n",
    "    \n",
    "    #retriev  train images dataset \n",
    "    count_train=0\n",
    "    for _ in range(classes):\n",
    "        imagesList = listdir(train_path+str(_))\n",
    "        for image in imagesList:\n",
    "            img = PImage.open(train_path +str(_)+\"/\"+ image)\n",
    "            train_set_x[count_train] = np.array(img)\n",
    "            \n",
    "            train_set_y[count_train][_]=1\n",
    "    \n",
    "            count_train+=1\n",
    "        \n",
    "    \n",
    "    #retriev  test images dataset \n",
    "    count_test=0        \n",
    "    for __ in range(classes):\n",
    "        imagesList = listdir(test_path+str(__))\n",
    "        for image in imagesList:\n",
    "            img = PImage.open(test_path +str(__)+\"/\"+ image)\n",
    "            test_set_x[count_test] = np.array(img)\n",
    "            \n",
    "            test_set_y[count_test][__]=1\n",
    "            \n",
    "            \n",
    "            \n",
    "            count_test+=1\n",
    "            \n",
    "        \n",
    "\n",
    "    "
   ]
  },
  {
   "cell_type": "code",
   "execution_count": 4,
   "metadata": {},
   "outputs": [],
   "source": [
    "def vecorization():\n",
    "    train_set_x_flatern=train_set_x.reshape(m_total_train, px*px)\n",
    "    test_set_x_flatern=test_set_x.reshape(m_total_test,px*px)\n",
    "    return train_set_x_flatern , test_set_x_flatern"
   ]
  },
  {
   "cell_type": "code",
   "execution_count": 5,
   "metadata": {},
   "outputs": [],
   "source": [
    "def shuffle_train_dataset(data):\n",
    "    input_with_label = np.concatenate((data, train_set_y), axis=1)\n",
    "    \n",
    "    #shuffle the dataset to get better traning\n",
    "    np.random.shuffle(input_with_label)\n",
    "    input_seperate=input_with_label[:,0:784]\n",
    "    \n",
    "    \n",
    "    correspond_labels=input_with_label[:,784:794]\n",
    "    \n",
    "    return input_seperate , correspond_labels\n",
    "\n",
    "    "
   ]
  },
  {
   "cell_type": "code",
   "execution_count": 6,
   "metadata": {},
   "outputs": [],
   "source": [
    "#Load dataset from folder\n",
    "path = \"Task3_Data\"\n",
    "imgs = load_dataset(path)\n",
    "train_set_x_flatern,test_set_x_flatern = vecorization()"
   ]
  },
  {
   "cell_type": "code",
   "execution_count": 7,
   "metadata": {},
   "outputs": [],
   "source": [
    "#Final arrange dataset\n",
    "final_train_x ,final_train_y=shuffle_train_dataset(train_set_x_flatern)\n",
    "final_test_x=test_set_x_flatern\n",
    "final_test_y=test_set_y"
   ]
  },
  {
   "cell_type": "markdown",
   "metadata": {},
   "source": [
    "# TASK 3###############"
   ]
  },
  {
   "cell_type": "markdown",
   "metadata": {},
   "source": [
    "final_train_x   ,  final_train_y ===> traning example:######\n",
    "final_test_x   ,  final_test_y  ===> testing example:"
   ]
  },
  {
   "cell_type": "code",
   "execution_count": 8,
   "metadata": {},
   "outputs": [
    {
     "name": "stdout",
     "output_type": "stream",
     "text": [
      "[1. 0. 0. 0. 0. 0. 0. 0. 0. 0.]\n"
     ]
    },
    {
     "data": {
      "image/png": "[encoded data removed]",
      "text/plain": [
       "<matplotlib.figure.Figure at 0x7fb53906b358>"
      ]
     },
     "metadata": {},
     "output_type": "display_data"
    }
   ],
   "source": [
    "index=78\n",
    "plt.imshow(final_train_x[index].reshape(28,28) ,cmap='gray')\n",
    "print(final_train_y[index])"
   ]
  },
  {
   "cell_type": "code",
   "execution_count": 9,
   "metadata": {},
   "outputs": [
    {
     "name": "stdout",
     "output_type": "stream",
     "text": [
      "train_x (60000, 784)\n",
      "train_y (60000, 10)\n",
      "test_x (10000, 784)\n",
      "test_y (10000, 10)\n"
     ]
    }
   ],
   "source": [
    "#check dataset dimension\n",
    "print(\"train_x\",final_train_x.shape)\n",
    "print(\"train_y\" ,final_train_y.shape)\n",
    "print(\"test_x\" ,final_test_x.shape)\n",
    "print(\"test_y\" ,final_test_y.shape)"
   ]
  },
  {
   "cell_type": "markdown",
   "metadata": {},
   "source": [
    "# /////////////////////////////////////////////////////////////////"
   ]
  },
  {
   "cell_type": "code",
   "execution_count": 32,
   "metadata": {},
   "outputs": [],
   "source": [
    "def sigmoid(z):\n",
    "    \"\"\"The sigmoid function.\"\"\"\n",
    "    return 1.0/(1.0+np.exp(-z))\n",
    "\n",
    "def sigmoid_prime(z):\n",
    "    \"\"\"Derivative of the sigmoid function.\"\"\"\n",
    "    return sigmoid(z)*(1-sigmoid(z))\n",
    "\n",
    "        "
   ]
  },
  {
   "cell_type": "markdown",
   "metadata": {},
   "source": [
    "# Multi Layer Neural Net Class"
   ]
  },
  {
   "cell_type": "code",
   "execution_count": 33,
   "metadata": {},
   "outputs": [],
   "source": [
    "class Net(object):\n",
    "    def __init__(self,f,t):\n",
    "        self.f=f\n",
    "        self.t=t\n",
    "        self.w=np.random.randn(f,t)\n",
    "        self.b=np.random.randn(t, 1) \n",
    "        self.a=np.random.randn(t, 1) \n",
    "        self.z=np.random.randn(t, 1)\n",
    "        \n",
    "        ##derivatives \n",
    "        self.dw=np.random.randn(f,t)\n",
    "        self.db=np.random.randn(t, 1) \n",
    "        self.dz=np.random.randn(t, 1)"
   ]
  },
  {
   "cell_type": "code",
   "execution_count": 34,
   "metadata": {},
   "outputs": [],
   "source": [
    "class Neural_Net(object):\n",
    "    def init_network(self, n_of_layers, neuron_per_layer):\n",
    "        \n",
    "        '''i merge the input and output in \"neuron_per_layer\"  variable like [784 ,100, 100, 10]\n",
    "        784 and 10 is the input and output\n",
    "        '''\n",
    "        \n",
    "        self.n_of_layers = n_of_layers\n",
    "        self.neuron_per_layer = neuron_per_layer\n",
    "        \n",
    "        \n",
    "        ##define variables on each layer\n",
    "        net=[]\n",
    "        for _ in range(self.n_of_layers -1):\n",
    "            n = Net(neuron_per_layer[_],neuron_per_layer[_+1])\n",
    "            net.append(n)\n",
    "        \n",
    "        return net\n",
    "        \n",
    "        \n",
    "    def feedforward(self, net , batch_data):\n",
    "        \n",
    "        x=batch_data\n",
    "        for i in range(self.n_of_layers-1):\n",
    "            \n",
    "            \n",
    "            net[i].z=np.dot(x, net[i].w)+net[i].b.T\n",
    "            net[i].a=sigmoid(net[i].z)\n",
    "            #i already save the output of each layer instead of its gradient ..\n",
    "            x = net[i].a\n",
    "            \n",
    "        return x   # at the end of forwording x will be output layer value\n",
    "    \n",
    "\n",
    "        \n",
    "        \n",
    "    def backPropagation(self ,net, batch_label, batch_x):\n",
    "        \n",
    "        out = net[self.n_of_layers-2].a        #output layer of model\n",
    "        \n",
    "        p=(out-batch_label)\n",
    "        k=1\n",
    "        inp=0\n",
    "        \n",
    "        #itterate backword from output layer towards input layer\n",
    "        \n",
    "        for i in range(self.n_of_layers-2, -1 ,-1):\n",
    "            if i==0:\n",
    "                inp = batch_x\n",
    "            else:\n",
    "                inp = net[i-1].a\n",
    "            \n",
    "            if i==self.n_of_layers-2 :   \n",
    "                net[i].dz = (k * p )     \n",
    "            else:\n",
    "                m=np.dot(k,p.T)\n",
    "                net[i].dz = sigmoid_prime(net[i].a)*m     #now i find local gradient with \"saved output\" of each layer\n",
    "                \n",
    "                \n",
    "            net[i].dw = np.dot(net[i].dz.T , inp)\n",
    "            net[i].db = np.dot(net[i].dz.T , np.ones((len(net[i].dz) ,1),dtype=np.int16 ))\n",
    "            \n",
    "            k = net[i].dz \n",
    "            p = net[i].w\n",
    "            \n",
    "            \n",
    "            \n",
    "            \n",
    "     #update the parameters       \n",
    "    def SGD(self, net , learning_rate):\n",
    "        \n",
    "        for _ in range(self.n_of_layers -1):\n",
    "            \n",
    "            net[_].w -= learning_rate * net[_].dw.T\n",
    "            net[_].b -= learning_rate * net[_].db\n",
    "            \n",
    "            \n",
    "    def loss_calculation(self, modelOutput, actual_target):    #MSE loss calculation\n",
    "        \n",
    "        return  np.mean((modelOutput - actual_target)**2)\n",
    "    \n",
    "    \n",
    "    def train_sgd(self, net, learning_rate, batch_size, epoch):\n",
    "        '''traning and testing dataset is already globaly define'''\n",
    "        \n",
    "        \n",
    "        for epo in range(epoch):\n",
    "            \n",
    "            Total_loss=0\n",
    "            val_loss=0\n",
    "            \n",
    "            for _ in range(int(m_total_train/batch_size)):  \n",
    "                \n",
    "                X_batch = final_train_x[_*batch_size : _*batch_size+batch_size]\n",
    "                y_batch_label = final_train_y[_*batch_size : _*batch_size+batch_size]\n",
    "                \n",
    "                self.feedforward(net, X_batch)\n",
    "                a_out=net[self.n_of_layers-2].a\n",
    "                \n",
    "                self.backPropagation(net, y_batch_label, X_batch)\n",
    "                self.SGD(net, learning_rate)\n",
    "                \n",
    "                loss = self.loss_calculation(a_out, y_batch_label)\n",
    "                loss1 = self.test(net, final_test_x, final_test_y)\n",
    "                \n",
    "                \n",
    "                Total_loss+=loss\n",
    "                val_loss+=loss1\n",
    "                \n",
    "                \n",
    "            print(epo,\" Epoch completed out of \",epoch,\"**** loss : \",Total_loss, \"*****validation loss : \", val_loss)\n",
    "        \n",
    "    \n",
    "    def test(self, net, test_set_x, test_set_y):\n",
    "        self.feedforward(net, test_set_x)\n",
    "        t_out=net[self.n_of_layers-2].a\n",
    "        validation_loss = self.loss_calculation(t_out, test_set_y)\n",
    "        \n",
    "        return validation_loss\n",
    "        \n",
    "    def accuracy_of_model(self, net, final_test_y, final_test_x):\n",
    "        y=self.feedforward(net,final_test_x)\n",
    "        print(\"model accuracy  = \", np.equal(np.argmax(final_test_y, axis=-1), np.argmax(y, axis=-1)).mean())\n",
    "    \n",
    "    \n",
    "    \n",
    "    "
   ]
  },
  {
   "cell_type": "code",
   "execution_count": 35,
   "metadata": {},
   "outputs": [],
   "source": [
    "#initialized hyper parameter\n",
    "\n",
    "learning_rate=0.0001\n",
    "batch_size=1000\n",
    "total_epoch=10\n",
    "\n",
    "input_l=784\n",
    "output_l=10"
   ]
  },
  {
   "cell_type": "markdown",
   "metadata": {},
   "source": [
    "#############################NOW REPORT THE MODEL WITH DIFFERENT NUMBER OF HIDDEN LAYERS##########################"
   ]
  },
  {
   "cell_type": "markdown",
   "metadata": {},
   "source": [
    "# NN with 2 Hidden Layers"
   ]
  },
  {
   "cell_type": "code",
   "execution_count": 36,
   "metadata": {
    "scrolled": true
   },
   "outputs": [
    {
     "name": "stderr",
     "output_type": "stream",
     "text": [
      "/home/ahmed/miniconda3/lib/python3.6/site-packages/ipykernel_launcher.py:3: RuntimeWarning: overflow encountered in exp\n",
      "  This is separate from the ipykernel package so we can avoid doing imports until\n"
     ]
    },
    {
     "name": "stdout",
     "output_type": "stream",
     "text": [
      "0  Epoch completed out of  10 **** loss :  4.035060374790444 *****validation loss :  3.557383095370121\n",
      "1  Epoch completed out of  10 **** loss :  2.5869676244849207 *****validation loss :  2.53049427794457\n",
      "2  Epoch completed out of  10 **** loss :  2.336461538531014 *****validation loss :  2.308049160052817\n",
      "3  Epoch completed out of  10 **** loss :  2.1927172040548215 *****validation loss :  2.152073419063774\n",
      "4  Epoch completed out of  10 **** loss :  2.0968910558834875 *****validation loss :  2.058836624022787\n",
      "5  Epoch completed out of  10 **** loss :  2.0528591168493375 *****validation loss :  2.0087564978201624\n",
      "6  Epoch completed out of  10 **** loss :  2.0264896964474817 *****validation loss :  1.9951631150705373\n",
      "7  Epoch completed out of  10 **** loss :  1.9790507725689284 *****validation loss :  1.9528883660114098\n",
      "8  Epoch completed out of  10 **** loss :  1.9151212851146924 *****validation loss :  1.8849591951486746\n",
      "9  Epoch completed out of  10 **** loss :  1.8445784332859607 *****validation loss :  1.8185849484269474\n"
     ]
    }
   ],
   "source": [
    "n_hiddenLayer=2\n",
    "neuron_in_hl1=70\n",
    "neuron_in_hl2=70\n",
    "\n",
    "NN_of_layer1 = Neural_Net()\n",
    "\n",
    "net = NN_of_layer1.init_network(n_hiddenLayer+2,  [input_l,  neuron_in_hl1, neuron_in_hl2, output_l]) \n",
    "\n",
    "NN_of_layer1.train_sgd(net, learning_rate, batch_size, total_epoch)  \n"
   ]
  },
  {
   "cell_type": "markdown",
   "metadata": {},
   "source": [
    "#######Check Accuracy "
   ]
  },
  {
   "cell_type": "code",
   "execution_count": 37,
   "metadata": {
    "scrolled": true
   },
   "outputs": [
    {
     "name": "stdout",
     "output_type": "stream",
     "text": [
      "model accuracy  =  0.8315\n"
     ]
    },
    {
     "name": "stderr",
     "output_type": "stream",
     "text": [
      "/home/ahmed/miniconda3/lib/python3.6/site-packages/ipykernel_launcher.py:3: RuntimeWarning: overflow encountered in exp\n",
      "  This is separate from the ipykernel package so we can avoid doing imports until\n"
     ]
    }
   ],
   "source": [
    "NN_of_layer1.accuracy_of_model(net, final_test_y, final_test_x)"
   ]
  },
  {
   "cell_type": "markdown",
   "metadata": {},
   "source": [
    "##Check model on test image"
   ]
  },
  {
   "cell_type": "code",
   "execution_count": 46,
   "metadata": {
    "scrolled": true
   },
   "outputs": [
    {
     "name": "stderr",
     "output_type": "stream",
     "text": [
      "/home/ahmed/miniconda3/lib/python3.6/site-packages/ipykernel_launcher.py:3: RuntimeWarning: overflow encountered in exp\n",
      "  This is separate from the ipykernel package so we can avoid doing imports until\n"
     ]
    },
    {
     "name": "stdout",
     "output_type": "stream",
     "text": [
      "actual label =  2 -----predicted =  2       confidence =  0.7754570294973212\n"
     ]
    },
    {
     "data": {
      "image/png": "[encoded data removed]",
      "text/plain": [
       "<matplotlib.figure.Figure at 0x7fb500093160>"
      ]
     },
     "metadata": {},
     "output_type": "display_data"
    }
   ],
   "source": [
    "#check model on one example\n",
    "\n",
    "index=2378                             #change index to check it\n",
    "inp=final_test_x[index]                     #pich one image from test data\n",
    "\n",
    "\n",
    "y_actual=final_test_y[index]                #  actual label\n",
    "y_predict=NN_of_layer1.feedforward(net, inp)#predicted value\n",
    "\n",
    "\n",
    "#predicted index of max value\n",
    "pred_maxi = y_predict.argmax() \n",
    "pred_maxv = y_predict[0][pred_maxi]\n",
    "\n",
    "\n",
    "#label index of max value\n",
    "label_maxi = y_actual.argmax()                   \n",
    "\n",
    "\n",
    "#show image\n",
    "plt.imshow(inp.reshape(28,28) ,cmap='gray')\n",
    "print(\"actual label = \",label_maxi,\"-----predicted = \",pred_maxi ,\"     \",\"confidence = \",pred_maxv )"
   ]
  },
  {
   "cell_type": "markdown",
   "metadata": {},
   "source": [
    "# NN with 3 Hidden Layers "
   ]
  },
  {
   "cell_type": "code",
   "execution_count": 39,
   "metadata": {},
   "outputs": [
    {
     "name": "stderr",
     "output_type": "stream",
     "text": [
      "/home/ahmed/miniconda3/lib/python3.6/site-packages/ipykernel_launcher.py:3: RuntimeWarning: overflow encountered in exp\n",
      "  This is separate from the ipykernel package so we can avoid doing imports until\n"
     ]
    },
    {
     "name": "stdout",
     "output_type": "stream",
     "text": [
      "0  Epoch completed out of  10 **** loss :  4.78118825079698 *****validation loss :  4.290891870264568\n",
      "1  Epoch completed out of  10 **** loss :  3.2041265022578966 *****validation loss :  3.1722688934822165\n",
      "2  Epoch completed out of  10 **** loss :  2.794051138914706 *****validation loss :  2.7870122601570695\n",
      "3  Epoch completed out of  10 **** loss :  2.5929019756936564 *****validation loss :  2.5941233109376802\n",
      "4  Epoch completed out of  10 **** loss :  2.425542554512847 *****validation loss :  2.4137628029697593\n",
      "5  Epoch completed out of  10 **** loss :  2.261904713297831 *****validation loss :  2.24483464310519\n",
      "6  Epoch completed out of  10 **** loss :  2.1260243781131654 *****validation loss :  2.1050904218271222\n",
      "7  Epoch completed out of  10 **** loss :  2.0070349323281502 *****validation loss :  1.9989044281366015\n",
      "8  Epoch completed out of  10 **** loss :  1.9222737921830222 *****validation loss :  1.9014856732451202\n",
      "9  Epoch completed out of  10 **** loss :  1.854750530618931 *****validation loss :  1.8232552615815272\n"
     ]
    }
   ],
   "source": [
    "n_hiddenLayer=3\n",
    "neuron_in_hl1=70\n",
    "neuron_in_hl2=70\n",
    "neuron_in_hl3=70\n",
    "\n",
    "NN_of_layer2 = Neural_Net()\n",
    "\n",
    "net = NN_of_layer1.init_network(n_hiddenLayer+2, [input_l, neuron_in_hl1, neuron_in_hl2, neuron_in_hl3, output_l])\n",
    "\n",
    "NN_of_layer1.train_sgd(net, learning_rate, batch_size, total_epoch)  "
   ]
  },
  {
   "cell_type": "markdown",
   "metadata": {},
   "source": [
    "#######Check Accuracy "
   ]
  },
  {
   "cell_type": "code",
   "execution_count": 40,
   "metadata": {},
   "outputs": [
    {
     "name": "stdout",
     "output_type": "stream",
     "text": [
      "model accuracy  =  0.8268\n"
     ]
    },
    {
     "name": "stderr",
     "output_type": "stream",
     "text": [
      "/home/ahmed/miniconda3/lib/python3.6/site-packages/ipykernel_launcher.py:3: RuntimeWarning: overflow encountered in exp\n",
      "  This is separate from the ipykernel package so we can avoid doing imports until\n"
     ]
    }
   ],
   "source": [
    "NN_of_layer1.accuracy_of_model(net, final_test_y, final_test_x)"
   ]
  },
  {
   "cell_type": "code",
   "execution_count": 41,
   "metadata": {},
   "outputs": [
    {
     "name": "stdout",
     "output_type": "stream",
     "text": [
      "actual label =  9 -----predicted =  9       confidence =  0.9453263214036941\n"
     ]
    },
    {
     "name": "stderr",
     "output_type": "stream",
     "text": [
      "/home/ahmed/miniconda3/lib/python3.6/site-packages/ipykernel_launcher.py:3: RuntimeWarning: overflow encountered in exp\n",
      "  This is separate from the ipykernel package so we can avoid doing imports until\n"
     ]
    },
    {
     "data": {
      "image/png": "[encoded data removed]",
      "text/plain": [
       "<matplotlib.figure.Figure at 0x7fb5390752b0>"
      ]
     },
     "metadata": {},
     "output_type": "display_data"
    }
   ],
   "source": [
    "#check model on one example\n",
    "\n",
    "index=9658                                 #change index to check it\n",
    "inp=final_test_x[index]                     #pich one image from test data\n",
    "\n",
    "\n",
    "y_actual=final_test_y[index]                #  actual label\n",
    "y_predict=NN_of_layer1.feedforward(net, inp)#predicted value\n",
    "\n",
    "\n",
    "#predicted index of max value\n",
    "pred_maxi = y_predict.argmax() \n",
    "pred_maxv = y_predict[0][pred_maxi]\n",
    "\n",
    "\n",
    "#label index of max value\n",
    "label_maxi = y_actual.argmax()                   \n",
    "\n",
    "\n",
    "#show image\n",
    "plt.imshow(inp.reshape(28,28) ,cmap='gray')\n",
    "print(\"actual label = \",label_maxi,\"-----predicted = \",pred_maxi ,\"     \",\"confidence = \",pred_maxv )"
   ]
  },
  {
   "cell_type": "markdown",
   "metadata": {},
   "source": [
    "# NN with 4 Hidden Layers "
   ]
  },
  {
   "cell_type": "code",
   "execution_count": 42,
   "metadata": {},
   "outputs": [
    {
     "name": "stderr",
     "output_type": "stream",
     "text": [
      "/home/ahmed/miniconda3/lib/python3.6/site-packages/ipykernel_launcher.py:3: RuntimeWarning: overflow encountered in exp\n",
      "  This is separate from the ipykernel package so we can avoid doing imports until\n"
     ]
    },
    {
     "name": "stdout",
     "output_type": "stream",
     "text": [
      "0  Epoch completed out of  10 **** loss :  5.083367748357488 *****validation loss :  4.661774880225388\n",
      "1  Epoch completed out of  10 **** loss :  3.166742854750127 *****validation loss :  3.1712994675549036\n",
      "2  Epoch completed out of  10 **** loss :  2.6532013439252218 *****validation loss :  2.6462355604052776\n",
      "3  Epoch completed out of  10 **** loss :  2.302566211740643 *****validation loss :  2.2535582929396534\n",
      "4  Epoch completed out of  10 **** loss :  2.0227535412085698 *****validation loss :  1.9822528537070967\n",
      "5  Epoch completed out of  10 **** loss :  1.8625513521335564 *****validation loss :  1.8216622058819796\n",
      "6  Epoch completed out of  10 **** loss :  1.7845527477993424 *****validation loss :  1.7488119894764038\n",
      "7  Epoch completed out of  10 **** loss :  1.7694423195633964 *****validation loss :  1.7263646224455063\n",
      "8  Epoch completed out of  10 **** loss :  1.7734257863872323 *****validation loss :  1.7179926392383855\n",
      "9  Epoch completed out of  10 **** loss :  1.7625372428679662 *****validation loss :  1.7016142834445205\n"
     ]
    }
   ],
   "source": [
    "n_hiddenLayer=4\n",
    "neuron_in_hl1=70\n",
    "neuron_in_hl2=70\n",
    "neuron_in_hl3=70\n",
    "neuron_in_hl4=70\n",
    "\n",
    "NN_of_layer2 = Neural_Net()\n",
    "net = NN_of_layer1.init_network(n_hiddenLayer+2, [input_l, neuron_in_hl1, neuron_in_hl2, neuron_in_hl3, neuron_in_hl4, output_l])     \n",
    "NN_of_layer1.train_sgd(net, learning_rate, batch_size, total_epoch) "
   ]
  },
  {
   "cell_type": "code",
   "execution_count": 43,
   "metadata": {},
   "outputs": [
    {
     "name": "stderr",
     "output_type": "stream",
     "text": [
      "/home/ahmed/miniconda3/lib/python3.6/site-packages/ipykernel_launcher.py:3: RuntimeWarning: overflow encountered in exp\n",
      "  This is separate from the ipykernel package so we can avoid doing imports until\n"
     ]
    },
    {
     "name": "stdout",
     "output_type": "stream",
     "text": [
      "model accuracy  =  0.8294\n"
     ]
    }
   ],
   "source": [
    "NN_of_layer1.accuracy_of_model(net, final_test_y, final_test_x)"
   ]
  },
  {
   "cell_type": "code",
   "execution_count": 44,
   "metadata": {},
   "outputs": [
    {
     "name": "stderr",
     "output_type": "stream",
     "text": [
      "/home/ahmed/miniconda3/lib/python3.6/site-packages/ipykernel_launcher.py:3: RuntimeWarning: overflow encountered in exp\n",
      "  This is separate from the ipykernel package so we can avoid doing imports until\n"
     ]
    },
    {
     "name": "stdout",
     "output_type": "stream",
     "text": [
      "actual label =  7 -----predicted =  7       confidence =  0.9988496543383941\n"
     ]
    },
    {
     "data": {
      "image/png": "[encoded data removed]",
      "text/plain": [
       "<matplotlib.figure.Figure at 0x7fb500020898>"
      ]
     },
     "metadata": {},
     "output_type": "display_data"
    }
   ],
   "source": [
    "#check model on one example\n",
    "\n",
    "index=7854                              #change index to check it\n",
    "inp=final_test_x[index]                     #pich one image from test data\n",
    "\n",
    "\n",
    "y_actual=final_test_y[index]                #  actual label\n",
    "y_predict=NN_of_layer1.feedforward(net, inp)#predicted value\n",
    "\n",
    "\n",
    "#predicted index of max value\n",
    "pred_maxi = y_predict.argmax() \n",
    "pred_maxv = y_predict[0][pred_maxi]\n",
    "\n",
    "\n",
    "#label index of max value\n",
    "label_maxi = y_actual.argmax()                   \n",
    "\n",
    "\n",
    "#show image\n",
    "plt.imshow(inp.reshape(28,28) ,cmap='gray')\n",
    "print(\"actual label = \",label_maxi,\"-----predicted = \",pred_maxi ,\"     \",\"confidence = \",pred_maxv )"
   ]
  }
 ],
 "metadata": {
  "kernelspec": {
   "display_name": "Python 3",
   "language": "python",
   "name": "python3"
  },
  "language_info": {
   "codemirror_mode": {
    "name": "ipython",
    "version": 3
   },
   "file_extension": ".py",
   "mimetype": "text/x-python",
   "name": "python",
   "nbconvert_exporter": "python",
   "pygments_lexer": "ipython3",
   "version": "3.6.4"
  }
 },
 "nbformat": 4,
 "nbformat_minor": 2
}
